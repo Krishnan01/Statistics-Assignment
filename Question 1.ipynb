{
 "cells": [
  {
   "cell_type": "code",
   "execution_count": 3,
   "id": "5f9fced3",
   "metadata": {},
   "outputs": [],
   "source": [
    "import pandas as pd\n",
    "DFrame = pd.read_csv('C:\\\\Users\\\\USER\\\\Desktop\\\\assignment dataset\\\\Students_Performance.csv')"
   ]
  },
  {
   "cell_type": "markdown",
   "id": "02d1605a",
   "metadata": {},
   "source": [
    "## Number of Male and Female"
   ]
  },
  {
   "cell_type": "code",
   "execution_count": 5,
   "id": "8e1769fa",
   "metadata": {},
   "outputs": [
    {
     "name": "stdout",
     "output_type": "stream",
     "text": [
      "Number of males: 482\n",
      "Number of females: 518\n"
     ]
    }
   ],
   "source": [
    "male_count = len(DFrame[DFrame['gender'] == 'male'])\n",
    "female_count = len(DFrame[DFrame['gender'] == 'female'])\n",
    "\n",
    "print(\"Number of males:\", male_count)\n",
    "print(\"Number of females:\", female_count)"
   ]
  },
  {
   "cell_type": "markdown",
   "id": "e9cd2696",
   "metadata": {},
   "source": [
    "## student parent level of education"
   ]
  },
  {
   "cell_type": "code",
   "execution_count": 24,
   "id": "4028a963",
   "metadata": {},
   "outputs": [
    {
     "name": "stdout",
     "output_type": "stream",
     "text": [
      "some college          226\n",
      "associate's degree    222\n",
      "high school           196\n",
      "some high school      179\n",
      "bachelor's degree     118\n",
      "master's degree        59\n",
      "Name: parental level of education, dtype: int64\n"
     ]
    }
   ],
   "source": [
    "education_counts = DFrame['parental level of education'].value_counts()\n",
    "\n",
    "print(education_counts)"
   ]
  },
  {
   "cell_type": "markdown",
   "id": "f67a17d0",
   "metadata": {},
   "source": [
    "## average score by gender and test preparation"
   ]
  },
  {
   "cell_type": "code",
   "execution_count": 10,
   "id": "fcdd602c",
   "metadata": {},
   "outputs": [
    {
     "name": "stdout",
     "output_type": "stream",
     "text": [
      "Average Scores by Gender -\n",
      "        math score  reading score  writing score\n",
      "gender                                          \n",
      "female   63.376448      72.590734      72.467181\n",
      "male     68.821577      65.545643      63.446058\n",
      "\n",
      "Average Scores by Test Preparation Course:\n",
      "                         math score  reading score  writing score\n",
      "test preparation course                                          \n",
      "completed                  69.96648      74.175978      74.684358\n",
      "none                       63.78972      66.417445      64.457944\n"
     ]
    }
   ],
   "source": [
    "import pandas as pd\n",
    "DFrame = pd.read_csv('C:\\\\Users\\\\USER\\\\Desktop\\\\assignment dataset\\\\Students_Performance.csv')\n",
    "avg_score_gender = DFrame.groupby('gender')[['math score', 'reading score', 'writing score']].mean()\n",
    "avg_score_course = DFrame.groupby('test preparation course')[['math score', 'reading score', 'writing score']].mean()\n",
    "\n",
    "print(\"Average Scores by Gender -\")\n",
    "print(avg_score_gender)\n",
    "\n",
    "print(\"\\nAverage Scores by Test Preparation Course:\")\n",
    "print(avg_score_course)"
   ]
  },
  {
   "cell_type": "markdown",
   "id": "086434e9",
   "metadata": {},
   "source": [
    "## devitation by gender and test preparation"
   ]
  },
  {
   "cell_type": "code",
   "execution_count": 15,
   "id": "afb9114a",
   "metadata": {},
   "outputs": [
    {
     "name": "stdout",
     "output_type": "stream",
     "text": [
      "Standard Deviation by Gender:\n",
      "        math score  reading score  writing score\n",
      "gender                                          \n",
      "female   16.029928      14.411018      14.844842\n",
      "male     14.556411      14.149594      14.227225\n",
      "\n",
      "Standard Deviation by Test Preparation Course:\n",
      "                         math score  reading score  writing score\n",
      "test preparation course                                          \n",
      "completed                 14.521847      13.537572      13.236412\n",
      "none                      15.705689      14.608896      15.041667\n"
     ]
    }
   ],
   "source": [
    "dev_gender = DFrame.groupby('gender')[['math score', 'reading score', 'writing score']].std()\n",
    "dev_course = DFrame.groupby('test preparation course')[['math score', 'reading score', 'writing score']].std()\n",
    "\n",
    "print(\"Standard Deviation by Gender:\")\n",
    "print(dev_gender)\n",
    "\n",
    "print(\"\\nStandard Deviation by Test Preparation Course:\")\n",
    "print(dev_course)"
   ]
  },
  {
   "cell_type": "markdown",
   "id": "898f960f",
   "metadata": {},
   "source": [
    "## bonus points for the top 25% of students"
   ]
  },
  {
   "cell_type": "code",
   "execution_count": 27,
   "id": "7333de06",
   "metadata": {},
   "outputs": [
    {
     "name": "stdout",
     "output_type": "stream",
     "text": [
      "     gender race/ethnicity parental level of education         lunch  \\\n",
      "414  female        group A                 high school  free/reduced   \n",
      "415  female        group B             master's degree  free/reduced   \n",
      "416  female        group B           bachelor's degree  free/reduced   \n",
      "417  female        group B             master's degree      standard   \n",
      "418  female        group B                 high school      standard   \n",
      "\n",
      "    test preparation course  math score  reading score  writing score  \n",
      "414               completed          87             88             85  \n",
      "415               completed          87             97             94  \n",
      "416                    none          87             85             87  \n",
      "417                    none          87             90             84  \n",
      "418               completed          87             82             89  \n"
     ]
    }
   ],
   "source": [
    "math_score_threshold = DFrame['math score'].quantile(0.75)\n",
    "bonus_students = DFrame[DFrame['math score'] >= math_score_threshold].copy()\n",
    "bonus_points = 10\n",
    "bonus_students.loc[:,'math score'] += bonus_points\n",
    "bonus_students.to_csv('Students_performance.csv', index=False)\n",
    "print(bonus_students.head())"
   ]
  },
  {
   "cell_type": "code",
   "execution_count": null,
   "id": "0a007fa4",
   "metadata": {},
   "outputs": [],
   "source": []
  }
 ],
 "metadata": {
  "kernelspec": {
   "display_name": "Python 3 (ipykernel)",
   "language": "python",
   "name": "python3"
  },
  "language_info": {
   "codemirror_mode": {
    "name": "ipython",
    "version": 3
   },
   "file_extension": ".py",
   "mimetype": "text/x-python",
   "name": "python",
   "nbconvert_exporter": "python",
   "pygments_lexer": "ipython3",
   "version": "3.11.4"
  }
 },
 "nbformat": 4,
 "nbformat_minor": 5
}
