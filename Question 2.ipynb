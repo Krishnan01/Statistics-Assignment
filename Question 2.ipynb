{
 "cells": [
  {
   "cell_type": "markdown",
   "id": "41a96cdb",
   "metadata": {},
   "source": [
    "## sales analysis"
   ]
  },
  {
   "cell_type": "code",
   "execution_count": 1,
   "id": "a9670936",
   "metadata": {},
   "outputs": [],
   "source": [
    "import pandas as pd\n",
    "DFrame = pd.read_csv('C:\\\\Users\\\\USER\\\\Desktop\\\\assignment dataset\\\\Sales_add.csv')"
   ]
  },
  {
   "cell_type": "code",
   "execution_count": 17,
   "id": "5950a5b3",
   "metadata": {},
   "outputs": [
    {
     "name": "stdout",
     "output_type": "stream",
     "text": [
      "Average sales before investing in digital marketing: 149239.95454545456\n",
      "Rounded sales before investment =  149240.0\n",
      "Average sales after investing in digital marketing: 231123.72727272726\n",
      "Rounded sales after investment =  231124.0\n",
      "The investment yielded a profit of :  81884.0\n"
     ]
    }
   ],
   "source": [
    "sale_before = DFrame['Sales_before_digital_add(in $)'].mean()\n",
    "sale_after = DFrame['Sales_After_digital_add(in $)'].mean()\n",
    "\n",
    "print(f\"Average sales before investing in digital marketing: {sale_before}\")\n",
    "print(\"Rounded sales before investment = \",sale_before.round())\n",
    "\n",
    "print(f\"Average sales after investing in digital marketing: {sale_after}\")\n",
    "print(\"Rounded sales after investment = \",sale_after.round())\n",
    "\n",
    "value = sale_after.round() - sale_before.round()\n",
    "\n",
    "if value > 0:\n",
    "    value = value.round()\n",
    "    print(\"The investment yielded a profit of : \",value)\n",
    "elif value == 0:\n",
    "    print(\"The investment yielded no profit or loss\")\n",
    "else:\n",
    "    value = (value * -1).round()\n",
    "    print(\"The investment yielded a loss of :\",value)"
   ]
  },
  {
   "cell_type": "markdown",
   "id": "814499ce",
   "metadata": {},
   "source": [
    "## checking for relation between region and manager"
   ]
  },
  {
   "cell_type": "code",
   "execution_count": 22,
   "id": "9f9e3b99",
   "metadata": {},
   "outputs": [
    {
     "name": "stdout",
     "output_type": "stream",
     "text": [
      "Chi-Squared Test Statistic: 3.050566893424036\n",
      "P-Value: 0.5493991051158094\n",
      "There is no significant relationship between Region and Manager.\n"
     ]
    }
   ],
   "source": [
    "from scipy.stats import chi2_contingency\n",
    "contingency_table = pd.crosstab(DFrame['Region'], DFrame['Manager'])\n",
    "\n",
    "chi2, p, dof, expected = chi2_contingency(contingency_table)\n",
    "\n",
    "print(\"Chi-Squared Test Statistic:\", chi2)\n",
    "print(\"P-Value:\", p)\n",
    "\n",
    "if p < 0.05:\n",
    "    print(\"There is a significant relationship between Region and Manager.\")\n",
    "else:\n",
    "    print(\"There is no significant relationship between Region and Manager.\")"
   ]
  },
  {
   "cell_type": "code",
   "execution_count": null,
   "id": "089ef589",
   "metadata": {},
   "outputs": [],
   "source": []
  }
 ],
 "metadata": {
  "kernelspec": {
   "display_name": "Python 3 (ipykernel)",
   "language": "python",
   "name": "python3"
  },
  "language_info": {
   "codemirror_mode": {
    "name": "ipython",
    "version": 3
   },
   "file_extension": ".py",
   "mimetype": "text/x-python",
   "name": "python",
   "nbconvert_exporter": "python",
   "pygments_lexer": "ipython3",
   "version": "3.11.4"
  }
 },
 "nbformat": 4,
 "nbformat_minor": 5
}
